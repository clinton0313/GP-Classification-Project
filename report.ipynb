{
 "cells": [
  {
   "cell_type": "markdown",
   "metadata": {},
   "source": [
    "## 21D008 Probabilistic Inference - Project: Elliptical Slice Sampling in Classification"
   ]
  },
  {
   "cell_type": "code",
   "execution_count": 16,
   "metadata": {},
   "outputs": [],
   "source": [
    "from scipy.stats import multivariate_normal\n",
    "from EllipticalSliceSampler import EllipticalSampler\n",
    "from utils import (\n",
    "    plot_sampler,\n",
    "    plot_multiple\n",
    ")\n",
    "\n",
    "import sys\n",
    "import numpy as np\n",
    "from numpy.random import multivariate_normal as mn\n",
    "import matplotlib.pyplot as plt"
   ]
  },
  {
   "cell_type": "code",
   "execution_count": 56,
   "metadata": {},
   "outputs": [
    {
     "name": "stdout",
     "output_type": "stream",
     "text": [
      "5.186880156345339\n"
     ]
    },
    {
     "name": "stderr",
     "output_type": "stream",
     "text": [
      "C:\\Users\\David\\AppData\\Local\\Temp\\ipykernel_4444\\1869016765.py:13: RuntimeWarning: covariance is not positive-semidefinite.\n",
      "  f_incumbent = mn(prior_µ - prior_µ, prior_Σ, size=1).squeeze()\n",
      "C:\\Users\\David\\AppData\\Local\\Temp\\ipykernel_4444\\1869016765.py:15: RuntimeWarning: covariance is not positive-semidefinite.\n",
      "  nu = mn(prior_µ - prior_µ, prior_Σ, size=1)\n"
     ]
    }
   ],
   "source": [
    "prior_µ = np.array([1,2])\n",
    "prior_Σ = np.array(\n",
    "    [[ 2.58319407, -0.67001488],\n",
    "    [-0.67001488,  1.09846023]]\n",
    ")\n",
    "\n",
    "lik_µ = np.array([0,0])\n",
    "lik_Σ = np.array(\n",
    "    [[ 1.80406008, -1.01247719],\n",
    "    [-1.01247719,  1.34016259]]\n",
    ")\n",
    "loglik = lambda f: np.log(multivariate_normal.pdf(f, mean=lik_µ, cov=lik_Σ))\n",
    "f_incumbent = mn(prior_µ - prior_µ, prior_Σ, size=1).squeeze()\n",
    "\n",
    "nu = mn(prior_µ - prior_µ, prior_Σ, size=1)\n",
    "log_y = loglik(f_incumbent) + np.log(np.random.uniform(0,1))\n",
    "Θ = np.random.uniform(0 + sys.float_info.min, 2*np.pi)\n",
    "print(Θ)\n",
    "Θ_min, Θ_max = Θ - 2*np.pi, Θ"
   ]
  },
  {
   "cell_type": "code",
   "execution_count": 15,
   "metadata": {},
   "outputs": [],
   "source": [
    "Θ_space = np.linspace(0,2*np.pi,100)"
   ]
  },
  {
   "cell_type": "code",
   "execution_count": 50,
   "metadata": {},
   "outputs": [],
   "source": [
    "pointy = np.stack([(f_incumbent * np.cos(x) + nu * np.sin(x)).squeeze() for x in Θ_space])"
   ]
  },
  {
   "cell_type": "code",
   "execution_count": 54,
   "metadata": {},
   "outputs": [
    {
     "data": {
      "text/plain": [
       "array([1.34092279, 0.04430346])"
      ]
     },
     "execution_count": 54,
     "metadata": {},
     "output_type": "execute_result"
    }
   ],
   "source": [
    "f_incumbent"
   ]
  },
  {
   "cell_type": "code",
   "execution_count": 55,
   "metadata": {},
   "outputs": [
    {
     "data": {
      "text/plain": [
       "[<matplotlib.lines.Line2D at 0x1d77ffc9160>]"
      ]
     },
     "execution_count": 55,
     "metadata": {},
     "output_type": "execute_result"
    },
    {
     "data": {
      "image/png": "[encoded data removed]",
      "text/plain": [
       "<Figure size 432x288 with 1 Axes>"
      ]
     },
     "metadata": {
      "needs_background": "light"
     },
     "output_type": "display_data"
    }
   ],
   "source": [
    "plt.plot(pointy[:,0], pointy[:,1])\n",
    "plt.plot(f_incumbent[0], f_incumbent[1], 'g^', markersize=10, label='f')"
   ]
  },
  {
   "cell_type": "code",
   "execution_count": 49,
   "metadata": {},
   "outputs": [
    {
     "data": {
      "text/plain": [
       "array([[ 1.34092279,  0.04430346],\n",
       "       [ 1.34419815, -0.00376615],\n",
       "       [ 1.34206091, -0.05182059],\n",
       "       [ 1.33451966, -0.09966636],\n",
       "       [ 1.32160477, -0.14711082],\n",
       "       [ 1.30336824, -0.19396291],\n",
       "       [ 1.27988351, -0.24003399],\n",
       "       [ 1.25124514, -0.28513853],\n",
       "       [ 1.21756845, -0.32909492],\n",
       "       [ 1.17898904, -0.37172616],\n",
       "       [ 1.13566226, -0.41286058],\n",
       "       [ 1.08776256, -0.45233257],\n",
       "       [ 1.03548283, -0.48998317],\n",
       "       [ 0.97903358, -0.52566078],\n",
       "       [ 0.9186421 , -0.55922175],\n",
       "       [ 0.85455158, -0.59053092],\n",
       "       [ 0.78702007, -0.61946223],\n",
       "       [ 0.71631952, -0.64589919],\n",
       "       [ 0.6427346 , -0.66973534],\n",
       "       [ 0.56656161, -0.6908747 ],\n",
       "       [ 0.48810729, -0.70923216],\n",
       "       [ 0.40768752, -0.72473378],\n",
       "       [ 0.32562614, -0.73731716],\n",
       "       [ 0.24225358, -0.74693163],\n",
       "       [ 0.15790555, -0.75353846],\n",
       "       [ 0.07292169, -0.75711106],\n",
       "       [-0.0123558 , -0.75763504],\n",
       "       [-0.09758353, -0.75510829],\n",
       "       [-0.18241834, -0.74954099],\n",
       "       [-0.2665186 , -0.74095555],\n",
       "       [-0.3495457 , -0.72938654],\n",
       "       [-0.43116529, -0.71488055],\n",
       "       [-0.51104873, -0.69749599],\n",
       "       [-0.58887437, -0.67730286],\n",
       "       [-0.66432881, -0.65438247],\n",
       "       [-0.73710823, -0.62882711],\n",
       "       [-0.80691958, -0.60073969],\n",
       "       [-0.87348175, -0.5702333 ],\n",
       "       [-0.93652672, -0.53743078],\n",
       "       [-0.99580062, -0.50246422],\n",
       "       [-1.05106479, -0.46547442],\n",
       "       [-1.10209669, -0.42661031],\n",
       "       [-1.14869084, -0.38602839],\n",
       "       [-1.19065961, -0.34389207],\n",
       "       [-1.22783401, -0.30037102],\n",
       "       [-1.26006437, -0.25564048],\n",
       "       [-1.28722089, -0.20988057],\n",
       "       [-1.30919422, -0.16327555],\n",
       "       [-1.32589589, -0.11601307],\n",
       "       [-1.33725865, -0.06828344],\n",
       "       [-1.34323673, -0.02027887],\n",
       "       [-1.34380608,  0.02780737],\n",
       "       [-1.33896439,  0.07578163],\n",
       "       [-1.32873117,  0.12345075],\n",
       "       [-1.31314762,  0.17062277],\n",
       "       [-1.29227648,  0.21710776],\n",
       "       [-1.2662018 ,  0.26271852],\n",
       "       [-1.23502858,  0.30727142],\n",
       "       [-1.19888233,  0.35058704],\n",
       "       [-1.1579086 ,  0.39249097],\n",
       "       [-1.11227239,  0.43281448],\n",
       "       [-1.06215745,  0.4713952 ],\n",
       "       [-1.00776557,  0.50807777],\n",
       "       [-0.94931578,  0.5427145 ],\n",
       "       [-0.88704343,  0.5751659 ],\n",
       "       [-0.82119926,  0.60530132],\n",
       "       [-0.75204842,  0.6329994 ],\n",
       "       [-0.67986935,  0.65814862],\n",
       "       [-0.60495268,  0.6806477 ],\n",
       "       [-0.52760007,  0.70040606],\n",
       "       [-0.44812301,  0.71734412],\n",
       "       [-0.36684152,  0.7313937 ],\n",
       "       [-0.28408289,  0.74249821],\n",
       "       [-0.20018035,  0.75061294],\n",
       "       [-0.11547176,  0.75570522],\n",
       "       [-0.0302982 ,  0.75775455],\n",
       "       [ 0.05499735,  0.75675266],\n",
       "       [ 0.14007145,  0.75270359],\n",
       "       [ 0.22458154,  0.74562366],\n",
       "       [ 0.30818731,  0.73554136],\n",
       "       [ 0.39055212,  0.72249729],\n",
       "       [ 0.47134431,  0.70654399],\n",
       "       [ 0.55023857,  0.68774568],\n",
       "       [ 0.62691721,  0.66617806],\n",
       "       [ 0.70107148,  0.64192798],\n",
       "       [ 0.77240278,  0.61509308],\n",
       "       [ 0.84062389,  0.58578141],\n",
       "       [ 0.9054601 ,  0.55411101],\n",
       "       [ 0.96665034,  0.52020941],\n",
       "       [ 1.02394822,  0.4842131 ],\n",
       "       [ 1.07712303,  0.44626704],\n",
       "       [ 1.12596064,  0.40652402],\n",
       "       [ 1.1702644 ,  0.36514407],\n",
       "       [ 1.20985592,  0.32229381],\n",
       "       [ 1.24457578,  0.27814579],\n",
       "       [ 1.27428417,  0.23287777],\n",
       "       [ 1.29886147,  0.18667204],\n",
       "       [ 1.31820872,  0.13971465],\n",
       "       [ 1.332248  ,  0.09219467],\n",
       "       [ 1.34092279,  0.04430346]])"
      ]
     },
     "execution_count": 49,
     "metadata": {},
     "output_type": "execute_result"
    }
   ],
   "source": [
    "np.stack(pointy)"
   ]
  },
  {
   "cell_type": "code",
   "execution_count": null,
   "metadata": {},
   "outputs": [],
   "source": []
  }
 ],
 "metadata": {
  "interpreter": {
   "hash": "127040dbc58122a83c8408d4a2e40b66c1a5f612f39d15dff8755bb2028928d7"
  },
  "kernelspec": {
   "display_name": "Python 3.9.7 ('probinf': venv)",
   "language": "python",
   "name": "python3"
  },
  "language_info": {
   "codemirror_mode": {
    "name": "ipython",
    "version": 3
   },
   "file_extension": ".py",
   "mimetype": "text/x-python",
   "name": "python",
   "nbconvert_exporter": "python",
   "pygments_lexer": "ipython3",
   "version": "3.9.7"
  },
  "orig_nbformat": 4
 },
 "nbformat": 4,
 "nbformat_minor": 2
}
