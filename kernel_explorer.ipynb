{
 "cells": [
  {
   "cell_type": "code",
   "execution_count": 11,
   "metadata": {},
   "outputs": [],
   "source": [
    "import itertools\n",
    "import matplotlib.colors as mcolors\n",
    "import matplotlib.pyplot as plt\n",
    "import numpy as np\n",
    "\n",
    "from ipywidgets import interact, fixed\n",
    "from functools import partial"
   ]
  },
  {
   "cell_type": "code",
   "execution_count": 12,
   "metadata": {},
   "outputs": [],
   "source": [
    "def build_kernel(kernel, **kwargs):\n",
    "    return partial(kernel, **kwargs)\n",
    "\n",
    "def get_gram_matrix(X, kernel):\n",
    "    n = len(X)\n",
    "    gram_matrix = np.array([np.zeros(n) for _ in range(n)])\n",
    "    for i, j in itertools.product(range(n), range(n)):\n",
    "        gram_matrix[i][j] = kernel(X[i], X[j])\n",
    "    return gram_matrix\n",
    "\n",
    "def get_mean_vector(X):\n",
    "    return np.zeros(len(X))\n",
    "\n",
    "def sigmoid(x):\n",
    "    return 1 / (1 + np.exp(-x))"
   ]
  },
  {
   "cell_type": "code",
   "execution_count": 32,
   "metadata": {},
   "outputs": [],
   "source": [
    "def kernel_simulator(X, kernel, classes=2, **hyperparams):\n",
    "    mean_vector = get_mean_vector(X)\n",
    "    cov = get_gram_matrix(X, build_kernel(kernel=kernel, **hyperparams))\n",
    "\n",
    "    fig, ax = plt.subplots(figsize = (10, 10))\n",
    "    colors = list(mcolors.TABLEAU_COLORS.keys())\n",
    "    samples = np.array([sigmoid(np.random.multivariate_normal(mean = mean_vector, cov=cov)) for _ in range(classes)])\n",
    "    class_labels = np.argmax(samples, axis=0)\n",
    "    for i in range(classes):\n",
    "        ax.plot(X, samples[i], color=colors[i])\n",
    "    ax.scatter(X, np.ones_like(X), color=[colors[c] for c in class_labels])\n",
    "    ax.spines[\"top\"].set_visible(False)\n",
    "    ax.spines[\"right\"].set_visible(False)\n",
    "    ax.set_ylim(0,1)"
   ]
  },
  {
   "cell_type": "code",
   "execution_count": 34,
   "metadata": {},
   "outputs": [],
   "source": [
    "def linear_kernel(x, y, variance, **kwargs):\n",
    "    return variance * np.dot(x, y)\n",
    "\n",
    "def gaussian_kernel(x, y, variance, length, **kwargs):\n",
    "    return variance * np.exp(-(np.dot((x-y), (x-y))/(2*length)))\n",
    "\n",
    "def periodic_kernel(x1, x2, amplitude, length, period, **kwargs):\n",
    "    return amplitude **2 * np.exp(- 2/length**2 * np.sin(np.pi * np.abs(x1 - x2) / period)**2)\n",
    "\n",
    "def wiener_kernel(x, y, variance, **kwargs):\n",
    "    return variance * np.min(x, y)\n",
    "\n",
    "def rational_quadratic_kernel(x, y, variance, length, scale, **kwargs):\n",
    "    return variance * (1 + np.dot((x-y), (x-y)) ** 2 / (2 * scale * length **2)) ** (-scale)\n",
    "\n",
    "def polynomial_kernel(x, y, c, deg, **kwargs):\n",
    "    return (np.dot(x, y) + c) ** deg\n",
    "\n",
    "X = np.arange(0., 10., 0.1)\n",
    "kernels = [\n",
    "    gaussian_kernel, \n",
    "    linear_kernel, \n",
    "    wiener_kernel, \n",
    "    periodic_kernel, \n",
    "    rational_quadratic_kernel,\n",
    "    polynomial_kernel\n",
    "]"
   ]
  },
  {
   "cell_type": "code",
   "execution_count": 35,
   "metadata": {},
   "outputs": [
    {
     "data": {
      "application/vnd.jupyter.widget-view+json": {
       "model_id": "7f075f77c61942efa86ed3eb71dd31c7",
       "version_major": 2,
       "version_minor": 0
      },
      "text/plain": [
       "interactive(children=(Dropdown(description='kernel', options=(<function gaussian_kernel at 0x7f6c48144ee0>, <f…"
      ]
     },
     "metadata": {},
     "output_type": "display_data"
    },
    {
     "data": {
      "text/plain": [
       "<function __main__.kernel_simulator(X, kernel, classes=2, **hyperparams)>"
      ]
     },
     "execution_count": 35,
     "metadata": {},
     "output_type": "execute_result"
    }
   ],
   "source": [
    "interact(\n",
    "    kernel_simulator, \n",
    "    X=fixed(X), \n",
    "    classes=(2,5,1),\n",
    "    kernel=kernels, \n",
    "    variance=(1,10, 0.2),\n",
    "    amplitude=(0.1, 10, 0.2),\n",
    "    period=(0.2, 10, 0.2),\n",
    "    length=(0.1, 10, 0.2),\n",
    "    scale = (0., 10., 0.2),\n",
    "    c=(1,5, 0.5),\n",
    "    deg=(0,8, 0.2),\n",
    "    replot=(0,1, 1)\n",
    ")"
   ]
  }
 ],
 "metadata": {
  "interpreter": {
   "hash": "5d954fc46ee266f92c7998f6618ed27774cb5be3aed98189afcbf305cbce1e84"
  },
  "kernelspec": {
   "display_name": "Python 3.8.10 ('DS')",
   "language": "python",
   "name": "python3"
  },
  "language_info": {
   "codemirror_mode": {
    "name": "ipython",
    "version": 3
   },
   "file_extension": ".py",
   "mimetype": "text/x-python",
   "name": "python",
   "nbconvert_exporter": "python",
   "pygments_lexer": "ipython3",
   "version": "3.8.10"
  },
  "orig_nbformat": 4
 },
 "nbformat": 4,
 "nbformat_minor": 2
}
